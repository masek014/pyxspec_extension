{
 "cells": [
  {
   "cell_type": "code",
   "execution_count": 3,
   "metadata": {},
   "outputs": [
    {
     "data": {
      "text/plain": [
       "['./data/fpmA_g0-4.srm', './data/fpmB_g0-4.srm']"
      ]
     },
     "execution_count": 3,
     "metadata": {},
     "output_type": "execute_result"
    }
   ],
   "source": [
    "import nustar_srm"
   ]
  },
  {
   "cell_type": "code",
   "execution_count": null,
   "metadata": {},
   "outputs": [],
   "source": [
    "nustar_srm.make_nustar_srms(\n",
    "    './data/',\n",
    "    './data/',\n",
    "    pha_format='fpm{fpm}_g0-4.pha',\n",
    "    rmf_format='fpm{fpm}_g0-4.rmf',\n",
    "    arf_format='fpm{fpm}_g0-4.arf',\n",
    "    srm_format='fpm{fpm}_g0-4.srm',\n",
    "    out_pha_format='fpm{fpm}_g0-4_srm.pha',\n",
    ")"
   ]
  },
  {
   "cell_type": "code",
   "execution_count": 5,
   "metadata": {},
   "outputs": [
    {
     "data": {
      "text/plain": [
       "['./data/fpmA_g21-24.srm', './data/fpmB_g21-24.srm']"
      ]
     },
     "execution_count": 5,
     "metadata": {},
     "output_type": "execute_result"
    }
   ],
   "source": [
    "nustar_srm.make_nustar_srms(\n",
    "    './data/',\n",
    "    './data/',\n",
    "    pha_format='fpm{fpm}_g21-24.pha',\n",
    "    rmf_format='fpm{fpm}_g21-24.rmf',\n",
    "    arf_format='fpm{fpm}_g21-24.arf',\n",
    "    srm_format='fpm{fpm}_g21-24.srm',\n",
    "    out_pha_format='fpm{fpm}_g21-24_srm.pha',\n",
    ")"
   ]
  }
 ],
 "metadata": {
  "kernelspec": {
   "display_name": "Python 3",
   "language": "python",
   "name": "python3"
  },
  "language_info": {
   "codemirror_mode": {
    "name": "ipython",
    "version": 3
   },
   "file_extension": ".py",
   "mimetype": "text/x-python",
   "name": "python",
   "nbconvert_exporter": "python",
   "pygments_lexer": "ipython3",
   "version": "3.11.8"
  }
 },
 "nbformat": 4,
 "nbformat_minor": 2
}
